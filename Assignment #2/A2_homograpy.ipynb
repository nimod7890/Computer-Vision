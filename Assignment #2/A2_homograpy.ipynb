{
 "cells": [
  {
   "cell_type": "code",
   "execution_count": 2698,
   "metadata": {},
   "outputs": [],
   "source": [
    "import cv2\n",
    "import numpy as np\n",
    "import copy\n",
    "import time"
   ]
  },
  {
   "cell_type": "markdown",
   "metadata": {},
   "source": [
    "### 2-1"
   ]
  },
  {
   "cell_type": "code",
   "execution_count": 2699,
   "metadata": {},
   "outputs": [],
   "source": [
    "def img_show(img,title=\"\"):\n",
    "    img=((img-img.min())/(img.max()-img.min())* 255.).astype(np.uint8) \n",
    "    cv2.imshow(title,img)\n",
    "    cv2.waitKey(0)\n",
    "    cv2.destroyAllWindows()"
   ]
  },
  {
   "cell_type": "code",
   "execution_count": 2700,
   "metadata": {},
   "outputs": [],
   "source": [
    "def wrappedImgShow(bg,img):\n",
    "    bgImg=copy.deepcopy(bg)\n",
    "    h,w=bg.shape\n",
    "    for i in range(h):\n",
    "        for j in range(w):\n",
    "            if img[i,j]!=0:\n",
    "                bgImg[i,j]=img[i,j]\n",
    "    img_show(bgImg)"
   ]
  },
  {
   "cell_type": "code",
   "execution_count": 2701,
   "metadata": {},
   "outputs": [],
   "source": [
    "def stichedImgShow(bg,img):\n",
    "    bgImg=copy.deepcopy(bg)\n",
    "    h,w=bg.shape\n",
    "    for i in range(h):\n",
    "        for j in range(w):\n",
    "            if img[i,j]!=0 and bgImg[i,j]==0:\n",
    "                bgImg[i,j]=img[i,j]\n",
    "    img_show(bgImg)"
   ]
  },
  {
   "cell_type": "code",
   "execution_count": 2702,
   "metadata": {},
   "outputs": [],
   "source": [
    "def hammingDistance(des1,des2):\n",
    "    newDistanceList=[]\n",
    "    for i,d1 in enumerate(des1):\n",
    "        desList=[]\n",
    "        for j, d2 in enumerate(des2):\n",
    "            desList.append(np.count_nonzero((d1[:,None] & (1 << np.arange(8))) != (d2[:,None] & (1 << np.arange(8)))))\n",
    "        mini=min(desList)\n",
    "        newDistanceList.append([i,desList.index(mini),mini])\n",
    "    return newDistanceList"
   ]
  },
  {
   "cell_type": "code",
   "execution_count": 2703,
   "metadata": {},
   "outputs": [],
   "source": [
    "def getDMatch(matches):\n",
    "    DMatchList=[]\n",
    "    for match in matches:\n",
    "        dMatch=cv2.DMatch()\n",
    "        dMatch.queryIdx,dMatch.trainIdx,dMatch.distance=map(int,match)\n",
    "        DMatchList.append(dMatch)\n",
    "    return DMatchList"
   ]
  },
  {
   "cell_type": "code",
   "execution_count": 2704,
   "metadata": {},
   "outputs": [],
   "source": [
    "def getPositionMatrices(img1,img2,N):\n",
    "    \n",
    "    orb1=cv2.ORB_create()\n",
    "    orb2=cv2.ORB_create()\n",
    "    \n",
    "    kp1,des1=orb1.detectAndCompute(img1,None)\n",
    "    kp2,des2=orb2.detectAndCompute(img2,None)\n",
    "    matches=sorted(hammingDistance(des1,des2),key=lambda x:x[2])\n",
    "    \n",
    "    topMatches=np.array(matches[:N])\n",
    "    dst=cv2.drawMatches(img1,kp1,img2,kp2,getDMatch(topMatches),None,flags=2)\n",
    "    img_show(dst)\n",
    "    \n",
    "    srcP,destP=[],[]\n",
    "    for p1,p2 in zip(topMatches[:,0],topMatches[:,1]):\n",
    "        destP.append([kp1[p1].pt[0],kp1[p1].pt[1]])\n",
    "        srcP.append([kp2[p2].pt[0],kp2[p2].pt[1]])\n",
    "        \n",
    "    return np.array(srcP),np.array(destP)\n"
   ]
  },
  {
   "cell_type": "markdown",
   "metadata": {},
   "source": [
    "### 2-2"
   ]
  },
  {
   "cell_type": "code",
   "execution_count": 2705,
   "metadata": {},
   "outputs": [],
   "source": [
    "def getNormalizingMatrix(matrix):\n",
    "    ##Todo mean subtraction\n",
    "    mean=np.mean(matrix)\n",
    "    subtractingMatrix=np.array([[1,0,-mean],[0,1,-mean],[0,0,1]])\n",
    "    ##Todo scaling\n",
    "    subtractedMatrix=subtractingMatrix@matrix.T\n",
    "    maxi,mini=np.max(subtractedMatrix),np.min(subtractedMatrix)\n",
    "    scalingValue=1/(maxi-mini)\n",
    "    scalingMatrix1=np.array([[1,0,-mini],[0,1,-mini],[0,0,1]])\n",
    "    scalingMatrix2=np.array([[scalingValue,0,0],[0,scalingValue,0],[0,0,1]]) #x,y 각각 1 => 최대 sqrt(2)\n",
    "    return scalingMatrix2@scalingMatrix1@subtractingMatrix"
   ]
  },
  {
   "cell_type": "code",
   "execution_count": 2706,
   "metadata": {},
   "outputs": [],
   "source": [
    "# def getNormalizingMatrix(matrix):\n",
    "#     ##Todo mean subtraction\n",
    "#     mean=np.mean(matrix,axis=0)\n",
    "#     subtractingMatrix=np.array([[1,0,-mean[0]],[0,1,-mean[1]],[0,0,1]])\n",
    "#     ##Todo scaling\n",
    "#     subtractedMatrix=subtractingMatrix@matrix.T\n",
    "#     print(subtractedMatrix.shape)\n",
    "#     maxi,mini=np.max(subtractedMatrix[:2],axis=1),np.min(subtractedMatrix[:2],axis=1)\n",
    "#     print(maxi,mini)\n",
    "#     # maxi,mini=np.max(subtractedMatrix),np.min(subtractedMatrix)\n",
    "#     scalingValue=1/(maxi-mini)\n",
    "#     # print(\"max\",mini,maxi,scalingValue)\n",
    "#     scalingMatrix1=np.array([[1,0,-mini[0]],[0,1,-mini[1]],[0,0,1]])\n",
    "#     # scaledMatrix=scalingMatrix1@matrix\n",
    "#     # print(matrix)\n",
    "#     if scalingValue[0]==0:\n",
    "#         print(scalingValue[0])\n",
    "#         scalingValue[0]=1\n",
    "#     if scalingValue[1]==0:\n",
    "#         print(scalingValue[1])\n",
    "#         scalingValue[1]=1\n",
    "#     scalingMatrix2=np.array([[scalingValue[0],0,0],[0,scalingValue[1],0],[0,0,1]]) #x,y 각각 1 => 최대 sqrt(2)\n",
    "#     # print(scalingMatrix2.shape,scalingMatrix1.shape,subtractingMatrix.shape)\n",
    "#     return scalingMatrix2@scalingMatrix1@subtractingMatrix"
   ]
  },
  {
   "cell_type": "code",
   "execution_count": 2707,
   "metadata": {},
   "outputs": [],
   "source": [
    "# def getNormalizingMatrix(matrix):\n",
    "#     ##Todo mean subtraction\n",
    "#     mean=np.mean(matrix,axis=0)\n",
    "#     subtractingMatrix=np.array([[1,0,-mean[0]],[0,1,-mean[1]],[0,0,1]])\n",
    "\n",
    "#     ##Todo scaling\n",
    "#     matrix=subtractingMatrix@matrix.T\n",
    "#     mini=np.min(matrix)\n",
    "#     scalingMatrix1=np.array([[1,0,-mini],[0,1,-mini],[0,0,1]])\n",
    "\n",
    "#     matrix=scalingMatrix1@matrix\n",
    "#     maxi=0\n",
    "#     X,Y=0,0\n",
    "#     for i,data in enumerate(matrix.T):\n",
    "#         x,y,_=data\n",
    "#         tmp=x**2+y**2\n",
    "#         if maxi<=tmp:\n",
    "#             maxi=tmp\n",
    "#             X,Y=x,y\n",
    "#     scalingX=1 if X==0 else X\n",
    "#     scalingY=1 if Y==0 else Y\n",
    "#     scaling=1/(scalingX+scalingY)\n",
    "#     scalingMatrix2=np.array([[scaling,0,0],[0,scaling,0],[0,0,1]]) #x,y 각각 1 => sqrt(2)\n",
    "#     return scalingMatrix2@scalingMatrix1@subtractingMatrix"
   ]
  },
  {
   "cell_type": "code",
   "execution_count": 2708,
   "metadata": {},
   "outputs": [],
   "source": [
    "def getAMatrix(srcP,destP):\n",
    "    A=[]\n",
    "    for p,pDot in zip(srcP,destP):\n",
    "        x,y=p; dx,dy=pDot\n",
    "        Ai=np.array([[-x,-y,-1,0,0,0,x*dx,y*dx,dx],\n",
    "                     [0,0,0,-x,-y,-1,x*dy,y*dy,dy]])\n",
    "        if len(A)==0:  A=Ai\n",
    "        else:  A=np.vstack([A,Ai])\n",
    "    # print(A.shape) #2N*9\n",
    "    return np.array(A)"
   ]
  },
  {
   "cell_type": "code",
   "execution_count": 2709,
   "metadata": {},
   "outputs": [],
   "source": [
    "def compute_homography(srcP,destP):\n",
    "    N=len(srcP)\n",
    "    srcP1=np.append(srcP,np.ones((N,1)),axis=1)\n",
    "    srcPMatrix=getNormalizingMatrix(srcP1)\n",
    "    normalizedSrcP=srcPMatrix@srcP1.T\n",
    "    if 0 not in normalizedSrcP[-1]:\n",
    "        normalizedSrcP/=normalizedSrcP[-1]\n",
    "        \n",
    "    destP1=np.append(destP,np.ones((N,1)),axis=1)\n",
    "    destPMatrix=getNormalizingMatrix(destP1)\n",
    "    normalizedDestP=destPMatrix@destP1.T\n",
    "    if 0 not in normalizedDestP[-1]:\n",
    "        normalizedDestP/=normalizedDestP[-1]\n",
    "    \n",
    "    A=getAMatrix(normalizedSrcP[:2].T,normalizedDestP[:2].T)\n",
    "    \n",
    "    U,s,V=np.linalg.svd(A)\n",
    "    h=np.reshape(V[-1],(3,3))\n",
    "    H=np.linalg.inv(destPMatrix)@h@srcPMatrix\n",
    "    return H/H[-1,-1]"
   ]
  },
  {
   "cell_type": "markdown",
   "metadata": {},
   "source": [
    "### 2-3"
   ]
  },
  {
   "cell_type": "code",
   "execution_count": 2710,
   "metadata": {},
   "outputs": [],
   "source": [
    "def compute_homography_ransac(srcP,destP,th=0.8):\n",
    "    maxi,inlierList=0,[]\n",
    "    N,num=len(srcP),4\n",
    "    srcP=np.append(srcP,np.ones((N,1)),axis=1) #(30,3)\n",
    "    for i in range(5000):\n",
    "        idxList=np.random.choice(N,num,replace=False)\n",
    "        \n",
    "        randomChoiceSrcP,randomChoiceDestP=srcP[idxList,:2], destP[idxList]\n",
    "        H=compute_homography(randomChoiceSrcP,randomChoiceDestP)\n",
    "        sampleDestP=H@srcP.T\n",
    "        \n",
    "        if 0 not in sampleDestP[-1]:\n",
    "            sampleDestP/=sampleDestP[-1]\n",
    "        else:\n",
    "            continue\n",
    "        sampleDestP=sampleDestP[:2].T\n",
    "\n",
    "        tmp = []\n",
    "        for j,point in enumerate(zip(destP,sampleDestP)):\n",
    "            dP,sP=point\n",
    "            if (np.abs(dP[0]-sP[0])<=th) and (np.abs(dP[1]-sP[1])<=th):\n",
    "                tmp.append(j)\n",
    "\n",
    "        tmpLen=len(tmp)\n",
    "        if tmpLen>maxi:\n",
    "            inlierList=tmp\n",
    "            maxi=tmpLen\n",
    "    return compute_homography(srcP[inlierList,:2],destP[inlierList])"
   ]
  },
  {
   "cell_type": "markdown",
   "metadata": {},
   "source": [
    "### 2-4"
   ]
  },
  {
   "cell_type": "code",
   "execution_count": 2713,
   "metadata": {},
   "outputs": [
    {
     "name": "stdout",
     "output_type": "stream",
     "text": [
      "normal\n",
      " [[ 4.95216125e-01 -1.92762828e+00  3.43683201e+02]\n",
      " [ 1.76175657e-01 -1.68218888e+00  3.20755088e+02]\n",
      " [ 6.59297811e-04 -4.99729901e-03  1.00000000e+00]]\n",
      "ransac: 2.531964063644409\n",
      "ransac\n",
      " [[ 6.48508480e-01 -3.92664699e-01  2.50033533e+02]\n",
      " [-5.20476732e-02  1.67485403e-01  1.99693021e+02]\n",
      " [-1.41315099e-04 -1.00563658e-03  1.00000000e+00]]\n"
     ]
    }
   ],
   "source": [
    "np.random.seed(1000)\n",
    "img1=cv2.imread('cv_desk.png',cv2.IMREAD_GRAYSCALE)\n",
    "img2=cv2.imread('cv_cover.jpg',cv2.IMREAD_GRAYSCALE)\n",
    "\n",
    "N=30\n",
    "srcP,destP=getPositionMatrices(img1,img2,N)\n",
    "H=compute_homography(srcP,destP)\n",
    "transformed_img=cv2.warpPerspective(img2,H,img1.shape[::-1])\n",
    "wrappedImgShow(img1,transformed_img)\n",
    "# print(\"normal\\n\",H)\n",
    "\n",
    "# H1,status=cv2.findHomography(srcP,destP)\n",
    "# transformed_img = cv2.warpPerspective(img2, H1, img1.shape[::-1])\n",
    "# wrappedImgShow(img1,transformed_img)\n",
    "# print(\"cv2\\n\",H1)\n",
    "\n",
    "start=time.time()\n",
    "H2=compute_homography_ransac(srcP,destP,0.8)\n",
    "print(f\"ransac: {time.time()-start}\")\n",
    "transformed_img = cv2.warpPerspective(img2, H2, img1.shape[::-1])\n",
    "wrappedImgShow(img1,transformed_img)\n",
    "# print(\"ransac\\n\",H2)\n",
    "\n",
    "img3=cv2.imread('hp_cover.jpg',cv2.IMREAD_GRAYSCALE)\n",
    "transformed_img=cv2.warpPerspective(cv2.resize(img3,img2.shape[::-1]),H2,img1.shape[::-1])\n",
    "wrappedImgShow(img1,transformed_img)\n"
   ]
  },
  {
   "cell_type": "markdown",
   "metadata": {},
   "source": [
    "### 2-5"
   ]
  },
  {
   "cell_type": "code",
   "execution_count": 2714,
   "metadata": {},
   "outputs": [],
   "source": [
    "img4=cv2.imread('diamondhead-10.png',cv2.IMREAD_GRAYSCALE)\n",
    "img5=cv2.imread('diamondhead-11.png',cv2.IMREAD_GRAYSCALE)\n",
    "\n",
    "N=20\n",
    "srcP,destP=getPositionMatrices(img4,img5,N)\n",
    "H3=compute_homography_ransac(srcP,destP,0.8)\n",
    "transformedSize=(img4.shape[1]+int(destP[0,0]-srcP[0,0]),img4.shape[0])\n",
    "wrappedImg = cv2.warpPerspective(img5,H3,transformedSize) \n",
    "bgSize=(img4.shape[0],int(destP[0,0]-srcP[0,0]))\n",
    "bgImg=np.column_stack((img4,np.zeros(bgSize)))\n",
    "stichedImgShow(bgImg,wrappedImg)"
   ]
  },
  {
   "cell_type": "code",
   "execution_count": 2715,
   "metadata": {},
   "outputs": [],
   "source": [
    "def gradationImgShow(stitched,warpped,end):\n",
    "    n=100\n",
    "    start=end-n\n",
    "    for i in range(start,end):\n",
    "        p=(i-start)/n\n",
    "        stitched[:,i]=warpped[:,i]*p+stitched[:,i]*(1-p)\n",
    "    img_show(stitched)"
   ]
  },
  {
   "cell_type": "code",
   "execution_count": null,
   "metadata": {},
   "outputs": [],
   "source": []
  }
 ],
 "metadata": {
  "kernelspec": {
   "display_name": "Python 3",
   "language": "python",
   "name": "python3"
  },
  "language_info": {
   "codemirror_mode": {
    "name": "ipython",
    "version": 3
   },
   "file_extension": ".py",
   "mimetype": "text/x-python",
   "name": "python",
   "nbconvert_exporter": "python",
   "pygments_lexer": "ipython3",
   "version": "3.10.2"
  },
  "orig_nbformat": 4,
  "vscode": {
   "interpreter": {
    "hash": "cf7cf767beb9e6cbc244bd557b33aa88c6ccdf2cc19853c07ad11ed7f2559ef0"
   }
  }
 },
 "nbformat": 4,
 "nbformat_minor": 2
}
