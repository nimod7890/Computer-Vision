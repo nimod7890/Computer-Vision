{
 "cells": [
  {
   "cell_type": "code",
   "execution_count": 208,
   "metadata": {},
   "outputs": [],
   "source": [
    "import numpy as np\n",
    "import random\n",
    "import cv2\n",
    "from compute_avg_reproj_error import *"
   ]
  },
  {
   "cell_type": "code",
   "execution_count": 209,
   "metadata": {},
   "outputs": [],
   "source": [
    "def imgShow(img,title=\"\"):\n",
    "    img=((img-img.min())/(img.max()-img.min())* 255.).astype(np.uint8) \n",
    "    cv2.imshow(title,img)\n",
    "    cv2.waitKey(0)\n",
    "    cv2.destroyAllWindows()"
   ]
  },
  {
   "cell_type": "code",
   "execution_count": 210,
   "metadata": {},
   "outputs": [],
   "source": [
    "def getAMatrix(srcP,destP):\n",
    "    A=[]\n",
    "    for p,pDot in zip(srcP,destP):\n",
    "        dx,dy=pDot; x,y=p\n",
    "        Ai=np.array([[x*dx,y*dx,dx,x*dy,y*dy,dy,x,y,1]])\n",
    "        if len(A)==0:  A=Ai\n",
    "        else:  A=np.vstack([A,Ai])\n",
    "    return A"
   ]
  },
  {
   "cell_type": "code",
   "execution_count": 211,
   "metadata": {},
   "outputs": [],
   "source": [
    "def getNormalizingMatrix(matrix):\n",
    "    matrix=np.append(matrix,np.ones((len(matrix),1)),axis=1)\n",
    "    mean=np.mean(matrix)\n",
    "    subtractingMatrix=np.array([[1,0,-mean],[0,1,-mean],[0,0,1]])\n",
    "    subtractedMatrix=subtractingMatrix@matrix.T\n",
    "    maxi,mini=np.max(subtractedMatrix),np.min(subtractedMatrix)\n",
    "    scalingValue=1/(maxi-mini)\n",
    "    scalingMatrix1=np.array([[1,0,-mini],[0,1,-mini],[0,0,1]])\n",
    "    scalingMatrix2=np.array([[scalingValue,0,0],[0,scalingValue,0],[0,0,1]]) #x,y 각각 1 => 최대 sqrt(2)\n",
    "\n",
    "    return scalingMatrix2@scalingMatrix1@subtractingMatrix"
   ]
  },
  {
   "cell_type": "code",
   "execution_count": 212,
   "metadata": {},
   "outputs": [],
   "source": [
    "def compute_F_raw(M):\n",
    "    \n",
    "    srcP,destP=M[:,:2],M[:,2:]\n",
    "    A=getAMatrix(srcP,destP)\n",
    "    \n",
    "    U,s,V=np.linalg.svd(A)\n",
    "    F=np.reshape(V[-1],(3,3))\n",
    "    \n",
    "    U,s,V=np.linalg.svd(F)\n",
    "    s=np.diag([*s[:2],0])\n",
    "    Fhat=U@s@V\n",
    "    \n",
    "    return Fhat/Fhat[-1,-1]"
   ]
  },
  {
   "cell_type": "code",
   "execution_count": 213,
   "metadata": {},
   "outputs": [],
   "source": [
    "def getNormalizedMatrix(P,matrix):\n",
    "    P=np.append(P,np.ones((len(P),1)),axis=1)\n",
    "    normalized=matrix@P.T\n",
    "    if 0 not in normalized[-1]:\n",
    "        normalized/=normalized[-1]\n",
    "    return normalized[:2].T"
   ]
  },
  {
   "cell_type": "code",
   "execution_count": 214,
   "metadata": {},
   "outputs": [],
   "source": [
    "def compute_F_norm(M):\n",
    "    srcP,destP=M[:,:2],M[:,2:]\n",
    "    \n",
    "    srcPMatrix=getNormalizingMatrix(srcP)\n",
    "    normalizedSrcP=getNormalizedMatrix(srcP,srcPMatrix)\n",
    "    destPMatrix=getNormalizingMatrix(destP)\n",
    "    normalizedDestP=getNormalizedMatrix(destP,destPMatrix)\n",
    "    \n",
    "    M=np.hstack([normalizedSrcP,normalizedDestP])\n",
    "    F=compute_F_raw(M)\n",
    "    return destPMatrix.T@F@srcPMatrix"
   ]
  },
  {
   "cell_type": "code",
   "execution_count": 215,
   "metadata": {},
   "outputs": [],
   "source": [
    "def compute_F_mine(M):\n",
    "    th=1000\n",
    "    F=None\n",
    "    for i in range(5000):\n",
    "        randomM=M[np.random.choice(len(M),8,replace=False)]\n",
    "        f=compute_F_norm(randomM)\n",
    "        err=compute_avg_reproj_error(randomM,f)\n",
    "        if err<th:\n",
    "            F=f\n",
    "            th=err\n",
    "    return F\n"
   ]
  },
  {
   "cell_type": "code",
   "execution_count": 216,
   "metadata": {},
   "outputs": [],
   "source": [
    "def computeEpilpolarLine(F,p):\n",
    "    x,y,x1,y1=p\n",
    "    return np.array([x,y,1])@F,F@np.array([x1,y1,1])"
   ]
  },
  {
   "cell_type": "code",
   "execution_count": 217,
   "metadata": {},
   "outputs": [],
   "source": [
    "def drawEpilpolarLine(img,line,p,color):\n",
    "    _,w,_=img.shape\n",
    "    a,b,c=line\n",
    "    p1=(0,int(-c/b))\n",
    "    p2=(w,int(-(a*w+c)/b))\n",
    "    img=cv2.line(img,p1,p2,color,1)\n",
    "    img=cv2.circle(img,tuple(map(int,[*p])),5,color,-1)\n",
    "    return img"
   ]
  },
  {
   "cell_type": "code",
   "execution_count": 218,
   "metadata": {},
   "outputs": [],
   "source": [
    "def getResultImgs(img1,img2,M,F):\n",
    "    colorList=[(255,0,0),(0,255,0),(0,0,255)]\n",
    "    for p,color in zip(M[np.random.choice(len(M),3,replace=False)],colorList):\n",
    "        l1,m1=computeEpilpolarLine(F,p)\n",
    "        img1=drawEpilpolarLine(img1,l1,p[:2],color)\n",
    "        img2=drawEpilpolarLine(img2,m1,p[2:],color)\n",
    "    return img1,img2"
   ]
  },
  {
   "cell_type": "code",
   "execution_count": 219,
   "metadata": {},
   "outputs": [],
   "source": [
    "img1=cv2.imread('temple1.png')\n",
    "img2=cv2.imread('temple2.png')\n",
    "M=np.array(np.loadtxt('temple_matches.txt'))\n",
    "rawF=compute_F_raw(M)\n",
    "normF=compute_F_norm(M)"
   ]
  },
  {
   "cell_type": "code",
   "execution_count": 220,
   "metadata": {},
   "outputs": [],
   "source": [
    "img1=cv2.imread('temple1.png')\n",
    "img2=cv2.imread('temple2.png')\n",
    "M=np.array(np.loadtxt('temple_matches.txt'))\n",
    "rawF=compute_F_raw(M)\n",
    "result1,result2=getResultImgs(img1,img2,M,rawF)\n",
    "imgShow(result1)\n",
    "imgShow(result2)"
   ]
  },
  {
   "cell_type": "code",
   "execution_count": 221,
   "metadata": {},
   "outputs": [],
   "source": [
    "img1=cv2.imread('temple1.png')\n",
    "img2=cv2.imread('temple2.png')\n",
    "M=np.array(np.loadtxt('temple_matches.txt'))\n",
    "normF=compute_F_norm(M)\n",
    "result1,result2=getResultImgs(img1,img2,M,normF)\n",
    "imgShow(result1)\n",
    "imgShow(result2)"
   ]
  },
  {
   "cell_type": "code",
   "execution_count": 222,
   "metadata": {},
   "outputs": [],
   "source": [
    "img1=cv2.imread('temple1.png')\n",
    "img2=cv2.imread('temple2.png')\n",
    "M=np.array(np.loadtxt('temple_matches.txt'))\n",
    "mineF=compute_F_mine(M)\n",
    "result1,result2=getResultImgs(img1,img2,M,mineF)\n",
    "imgShow(result1)\n",
    "imgShow(result2)"
   ]
  },
  {
   "cell_type": "code",
   "execution_count": 223,
   "metadata": {},
   "outputs": [
    {
     "name": "stdout",
     "output_type": "stream",
     "text": [
      "raw: 12.33253808689864\n",
      "norm: 0.5163948546414058\n",
      "mine: 0.5163948546414058\n"
     ]
    }
   ],
   "source": [
    "print(f\"raw: {compute_avg_reproj_error(M,rawF)}\")\n",
    "print(f\"norm: {compute_avg_reproj_error(M,normF)}\")\n",
    "print(f\"mine: {compute_avg_reproj_error(M,mineF)}\")"
   ]
  },
  {
   "cell_type": "code",
   "execution_count": null,
   "metadata": {},
   "outputs": [],
   "source": []
  }
 ],
 "metadata": {
  "kernelspec": {
   "display_name": "Python 3",
   "language": "python",
   "name": "python3"
  },
  "language_info": {
   "codemirror_mode": {
    "name": "ipython",
    "version": 3
   },
   "file_extension": ".py",
   "mimetype": "text/x-python",
   "name": "python",
   "nbconvert_exporter": "python",
   "pygments_lexer": "ipython3",
   "version": "3.10.2"
  },
  "orig_nbformat": 4,
  "vscode": {
   "interpreter": {
    "hash": "cf7cf767beb9e6cbc244bd557b33aa88c6ccdf2cc19853c07ad11ed7f2559ef0"
   }
  }
 },
 "nbformat": 4,
 "nbformat_minor": 2
}
