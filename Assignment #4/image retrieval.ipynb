{
 "cells": [
  {
   "cell_type": "code",
   "execution_count": 14,
   "metadata": {},
   "outputs": [],
   "source": [
    "from pathlib import Path\n",
    "import numpy as np\n",
    "import random\n",
    "import struct\n",
    "\n",
    "N_IMG=1000\n",
    "N_DIM=128\n",
    "N_CLUSTERS=8\n",
    "ITER_K_MEANS=50\n",
    "N_RAND=100000\n",
    "MAX_DIM=N_DIM*N_CLUSTERS #1024\n",
    "N_SEED=4000\n",
    "random.seed(N_SEED)"
   ]
  },
  {
   "cell_type": "code",
   "execution_count": 3,
   "metadata": {},
   "outputs": [
    {
     "data": {
      "text/plain": [
       "(702120, 128)"
      ]
     },
     "execution_count": 3,
     "metadata": {},
     "output_type": "execute_result"
    }
   ],
   "source": [
    "data=[]\n",
    "for num in range(N_IMG):\n",
    "    features=[item for item in Path(f'./feats/{str(num).zfill(5)}.sift').read_bytes()]\n",
    "    data.extend(np.reshape(features,(-1,N_DIM)))\n",
    "data=np.array(data)\n",
    "data.shape #(702120, 128)"
   ]
  },
  {
   "cell_type": "code",
   "execution_count": 4,
   "metadata": {},
   "outputs": [],
   "source": [
    "def get_rand_array(array,num):\n",
    "    randIdx=np.random.choice(len(array),num,replace=False)\n",
    "    return array[randIdx]"
   ]
  },
  {
   "cell_type": "code",
   "execution_count": 5,
   "metadata": {},
   "outputs": [],
   "source": [
    "def L2_distance(feature,cluster):\n",
    "    return np.sqrt(np.sum((feature-cluster)**2))"
   ]
  },
  {
   "cell_type": "code",
   "execution_count": 6,
   "metadata": {},
   "outputs": [],
   "source": [
    "def predict_cluster(feature,clusters):\n",
    "    d=[L2_distance(feature,cluster) for cluster in clusters]\n",
    "    return np.argmin(d)"
   ]
  },
  {
   "cell_type": "code",
   "execution_count": 7,
   "metadata": {},
   "outputs": [],
   "source": [
    "def init_kmeans_plus(data):\n",
    "    clusters=[random.choice(data)]\n",
    "    for _ in range(N_CLUSTERS-1):\n",
    "        distance=np.array([min([L2_distance(feature,cluster) for cluster in clusters]) for feature in data])\n",
    "        cluster=data[np.argmax(distance)]\n",
    "        clusters.append(cluster)\n",
    "    return clusters"
   ]
  },
  {
   "cell_type": "code",
   "execution_count": 8,
   "metadata": {},
   "outputs": [],
   "source": [
    "def cluster_centers_kmeans(data,clusters):\n",
    "\n",
    "    for i in range(ITER_K_MEANS):\n",
    "        print(f\"[{i}/{ITER_K_MEANS}] clusters: {np.sum(clusters)}\")\n",
    "        tmpClusters=np.zeros((N_CLUSTERS,N_DIM))\n",
    "        count=[0]*N_CLUSTERS\n",
    "\n",
    "        for feature in data:\n",
    "            mini=predict_cluster(feature,clusters)\n",
    "            count[mini]+=1\n",
    "            tmpClusters[mini]+=feature\n",
    "\n",
    "        for cluster,cnt in zip(tmpClusters,count):\n",
    "            if cnt==0:\n",
    "                print(f\"cnt==0\")\n",
    "    #         tmpClusters[j]=clusters[j]\n",
    "            cluster/=cnt\n",
    "        clusters=tmpClusters\n",
    "    print(f\"[result] clusters:{np.sum(clusters)}\")\n",
    "\n",
    "    return clusters"
   ]
  },
  {
   "cell_type": "code",
   "execution_count": 9,
   "metadata": {},
   "outputs": [],
   "source": [
    "rand10e4=get_rand_array(data,N_RAND)\n",
    "np.save(f'rand{N_SEED}',rand10e4)\n",
    "rand10e4=np.load(f'rand{N_SEED}.npy')"
   ]
  },
  {
   "cell_type": "code",
   "execution_count": 10,
   "metadata": {},
   "outputs": [],
   "source": [
    "clusters=np.array(init_kmeans_plus(rand10e4)) #k-means++\n",
    "np.save(f'kmeans++_{N_SEED}', clusters)\n",
    "clusters=get_rand_array(rand10e4,N_CLUSTERS) #k-means\n",
    "np.save(f'kmeans_{N_SEED}', clusters)\n",
    "clusters=np.load(f'kmeans++_{N_SEED}.npy')"
   ]
  },
  {
   "cell_type": "code",
   "execution_count": 11,
   "metadata": {},
   "outputs": [
    {
     "name": "stdout",
     "output_type": "stream",
     "text": [
      "[0/50] clusters: 59478\n",
      "[1/50] clusters: 62024.58856384285\n",
      "[2/50] clusters: 63176.87813688468\n",
      "[3/50] clusters: 63464.471828596106\n",
      "[4/50] clusters: 63684.877654056036\n",
      "[5/50] clusters: 63814.30045697787\n",
      "[6/50] clusters: 63880.22200657037\n",
      "[7/50] clusters: 63917.32610254726\n",
      "[8/50] clusters: 63893.28848656936\n",
      "[9/50] clusters: 63808.9120531044\n",
      "[10/50] clusters: 63674.65662374483\n",
      "[11/50] clusters: 63499.352800225315\n",
      "[12/50] clusters: 63311.66169677315\n",
      "[13/50] clusters: 63136.158603524396\n",
      "[14/50] clusters: 62969.74976747481\n",
      "[15/50] clusters: 62828.23665458588\n",
      "[16/50] clusters: 62695.088403862\n",
      "[17/50] clusters: 62591.65478566327\n",
      "[18/50] clusters: 62511.56356471559\n",
      "[19/50] clusters: 62447.440289620965\n",
      "[20/50] clusters: 62380.55957182484\n",
      "[21/50] clusters: 62310.27106435543\n",
      "[22/50] clusters: 62254.584080301895\n",
      "[23/50] clusters: 62201.75833811077\n",
      "[24/50] clusters: 62164.630564913496\n",
      "[25/50] clusters: 62130.0517010967\n",
      "[26/50] clusters: 62095.46965233595\n",
      "[27/50] clusters: 62069.38728383357\n",
      "[28/50] clusters: 62057.88116043284\n",
      "[29/50] clusters: 62047.876056974725\n",
      "[30/50] clusters: 62041.46975586335\n",
      "[31/50] clusters: 62033.92570242729\n",
      "[32/50] clusters: 62030.42711650119\n",
      "[33/50] clusters: 62024.7372864589\n",
      "[34/50] clusters: 62016.681188333285\n",
      "[35/50] clusters: 62013.92746997885\n",
      "[36/50] clusters: 62010.46606221895\n",
      "[37/50] clusters: 62007.48406513121\n",
      "[38/50] clusters: 62006.91885294762\n",
      "[39/50] clusters: 62005.02743598824\n",
      "[40/50] clusters: 62002.555987828906\n",
      "[41/50] clusters: 62000.94816021471\n",
      "[42/50] clusters: 62000.99515068368\n",
      "[43/50] clusters: 61997.52101745538\n",
      "[44/50] clusters: 61996.013721108364\n",
      "[45/50] clusters: 61995.62499154497\n",
      "[46/50] clusters: 61994.57165504458\n",
      "[47/50] clusters: 61993.51679132217\n",
      "[48/50] clusters: 61992.520800759645\n",
      "[49/50] clusters: 61991.0064090114\n",
      "[result] clusters:61990.05344413669\n"
     ]
    }
   ],
   "source": [
    "clusters=cluster_centers_kmeans(rand10e4,clusters)"
   ]
  },
  {
   "cell_type": "code",
   "execution_count": null,
   "metadata": {},
   "outputs": [],
   "source": [
    "def get_descriptor(data,clusters):\n",
    "    vlad=np.zeros((MAX_DIM))\n",
    "    for feature in data:\n",
    "        label=predict_cluster(feature,clusters)\n",
    "        start=label*N_DIM\n",
    "        end=start+N_DIM\n",
    "        vlad[start:end]+=feature-clusters[label]\n",
    "    vlad=np.sign(vlad)*np.sqrt(np.abs(vlad))\n",
    "    vlad/= np.sqrt(np.sum(vlad**2)) \n",
    "    return vlad"
   ]
  },
  {
   "cell_type": "code",
   "execution_count": null,
   "metadata": {},
   "outputs": [],
   "source": [
    "def get_features_from_img(IMG_PATH):\n",
    "    features=[item for item in Path(f'./feats/{IMG_PATH}.sift').read_bytes()]\n",
    "    return np.reshape(features,(-1,N_DIM))"
   ]
  },
  {
   "cell_type": "code",
   "execution_count": 12,
   "metadata": {},
   "outputs": [],
   "source": [
    "descriptor = np.zeros((N_IMG, MAX_DIM))\n",
    "for num in range(N_IMG):\n",
    "    IMG_PATH=str(num).zfill(5)\n",
    "    data=[item for item in Path(f'./feats/{IMG_PATH}.sift').read_bytes()]\n",
    "    data=np.reshape(data,(-1,N_DIM))\n",
    "    descriptor[num]=get_descriptor(data,clusters)"
   ]
  },
  {
   "cell_type": "code",
   "execution_count": 13,
   "metadata": {},
   "outputs": [],
   "source": [
    "with open(f'kmeansP_{N_SEED}.des', 'wb') as f:\n",
    "    f.write(struct.pack('ii', N_IMG, MAX_DIM))\n",
    "    f.write(descriptor.astype('float32').tobytes())"
   ]
  }
 ],
 "metadata": {
  "kernelspec": {
   "display_name": "Python 3.10.2 64-bit",
   "language": "python",
   "name": "python3"
  },
  "language_info": {
   "codemirror_mode": {
    "name": "ipython",
    "version": 3
   },
   "file_extension": ".py",
   "mimetype": "text/x-python",
   "name": "python",
   "nbconvert_exporter": "python",
   "pygments_lexer": "ipython3",
   "version": "3.10.2"
  },
  "orig_nbformat": 4,
  "vscode": {
   "interpreter": {
    "hash": "cf7cf767beb9e6cbc244bd557b33aa88c6ccdf2cc19853c07ad11ed7f2559ef0"
   }
  }
 },
 "nbformat": 4,
 "nbformat_minor": 2
}
