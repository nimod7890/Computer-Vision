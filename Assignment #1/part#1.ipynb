{
 "cells": [
  {
   "cell_type": "markdown",
   "metadata": {},
   "source": [
    "# Part #1 Image Filtering"
   ]
  },
  {
   "cell_type": "markdown",
   "metadata": {},
   "source": [
    "## 1(1) Image filtering by Cross-Correation\n",
    "kernel\n",
    "- r,c 두 방향 다 고려해서 작성\n",
    "- odd size라고 가정\n",
    "image padding: 가장 가까운 pixel 값\n"
   ]
  },
  {
   "cell_type": "code",
   "execution_count": 304,
   "metadata": {},
   "outputs": [],
   "source": [
    "import cv2\n",
    "import numpy as np\n",
    "\n",
    "LENNA_IMG_PATH=\"lenna.png\"\n",
    "SHAPE_IMG_PATH=\"shapes.png\""
   ]
  },
  {
   "cell_type": "code",
   "execution_count": 305,
   "metadata": {},
   "outputs": [],
   "source": [
    "def img_show(img,title=\"\"):\n",
    "    cv2.imshow(title,img)\n",
    "    cv2.waitKey(0)\n",
    "    cv2.destroyAllWindows()"
   ]
  },
  {
   "cell_type": "code",
   "execution_count": 306,
   "metadata": {},
   "outputs": [],
   "source": [
    "def get_padding_size(n,k):\n",
    "    p_h= (k[0]-1*(n[0]//2==0))//2\n",
    "    p_w=(k[1]-1*(n[1]//2==0))//2\n",
    "    return p_h,p_w"
   ]
  },
  {
   "cell_type": "code",
   "execution_count": 307,
   "metadata": {},
   "outputs": [],
   "source": [
    "# def image_padding_1d(img,kernel):\n",
    "#     k_size=kernel.shape[0]//2\n",
    "#     padding=np.concatenate([np.full(k_size, img[0]),img,np.full(k_size,img[-1])])\n",
    "#     return padding"
   ]
  },
  {
   "cell_type": "code",
   "execution_count": 308,
   "metadata": {},
   "outputs": [],
   "source": [
    "def image_padding_1d(img,kernel,row=True):\n",
    "    p_h,p_w=get_padding_size(img.shape,kernel.shape)\n",
    "    if row==True:\n",
    "        rowFirst=np.tile(img[:,:1],(1,p_w))\n",
    "        rowLast=np.tile(img[:,-1:] ,(1,p_w))\n",
    "        padding=np.concatenate([rowFirst,img,rowLast],1)\n",
    "    else:\n",
    "        columnFirst=np.tile(img[:1,:],(p_h,1))\n",
    "        columnLast=np.tile(img[-1:,:],(p_h,1))\n",
    "        padding=np.concatenate([columnFirst,img,columnLast],0) \n",
    "    return padding"
   ]
  },
  {
   "cell_type": "code",
   "execution_count": 309,
   "metadata": {},
   "outputs": [],
   "source": [
    "def image_padding_2d(img,kernel):\n",
    "    #column padding\n",
    "    padding=image_padding_1d(img,kernel,False)\n",
    "    #row padding\n",
    "    padding=image_padding_1d(padding,kernel,True)\n",
    "    return padding"
   ]
  },
  {
   "cell_type": "code",
   "execution_count": 310,
   "metadata": {},
   "outputs": [],
   "source": [
    "# def cross_correlation_1d_row(img,kernel):\n",
    "#     flatImg=img.reshape(-1)\n",
    "#     kernel=kernel.reshape(-1)\n",
    "#     paddingImg=image_padding_1d(flatImg,kernel)\n",
    "#     windows=np.lib.stride_tricks.sliding_window_view(paddingImg,(kernel.shape))\n",
    "#     filteredImg=np.einsum('i,ji->j',kernel,windows)\n",
    "#     return filteredImg.reshape(img.shape)\n",
    "\n",
    "# def cross_correlation_1d_column(img,kernel):\n",
    "#     trans=img.T\n",
    "#     flatImg=img.T.reshape(-1)\n",
    "#     kernel=kernel.reshape(-1)\n",
    "#     paddingImg=image_padding_1d(flatImg,kernel)\n",
    "#     windows=np.lib.stride_tricks.sliding_window_view(paddingImg,(kernel.shape))\n",
    "#     filteredImg=np.einsum('i,ji->j',kernel,windows)\n",
    "#     return filteredImg.reshape(trans.shape).T"
   ]
  },
  {
   "cell_type": "code",
   "execution_count": 311,
   "metadata": {},
   "outputs": [],
   "source": [
    "def cross_correlation_1d_row(img,kernel):\n",
    "    paddingImg=image_padding_1d(img,kernel)\n",
    "    windows=np.lib.stride_tricks.sliding_window_view(paddingImg,(kernel.shape))\n",
    "    return np.einsum('ij,klij->kl',kernel,windows)\n",
    "\n",
    "def cross_correlation_1d_column(img,kernel):\n",
    "    paddingImg=image_padding_1d(img,kernel,False)\n",
    "    windows=np.lib.stride_tricks.sliding_window_view(paddingImg,(kernel.shape))\n",
    "    return np.einsum('ij,klij->kl',kernel,windows)"
   ]
  },
  {
   "cell_type": "code",
   "execution_count": 312,
   "metadata": {},
   "outputs": [],
   "source": [
    "def cross_correlation_2d(img,kernel):\n",
    "    paddingImg=image_padding_2d(img,kernel)\n",
    "    windows=np.lib.stride_tricks.sliding_window_view(paddingImg,(kernel.shape))\n",
    "    return np.einsum('ij,klij->kl',kernel,windows)"
   ]
  },
  {
   "cell_type": "code",
   "execution_count": 313,
   "metadata": {},
   "outputs": [],
   "source": [
    "def cross_correlation_1d(img,kernel):\n",
    "    if kernel.shape[0]==1:\n",
    "        return cross_correlation_1d_row(img,kernel)\n",
    "    else:\n",
    "        return cross_correlation_1d_column(img,kernel)"
   ]
  },
  {
   "cell_type": "markdown",
   "metadata": {},
   "source": [
    "## 1(2) Gaussian Filter"
   ]
  },
  {
   "cell_type": "code",
   "execution_count": 314,
   "metadata": {},
   "outputs": [],
   "source": [
    "def get_gaussian_filter_1d(size,sigma):\n",
    "    size//=2\n",
    "    x=np.arange(-size,size+1)\n",
    "    kernel=np.exp(-1*x**2/(2*sigma**2))\n",
    "    kernel/=kernel.sum()\n",
    "    return kernel"
   ]
  },
  {
   "cell_type": "code",
   "execution_count": 315,
   "metadata": {},
   "outputs": [
    {
     "data": {
      "text/plain": [
       "array([0.05448868, 0.24420134, 0.40261995, 0.24420134, 0.05448868])"
      ]
     },
     "execution_count": 315,
     "metadata": {},
     "output_type": "execute_result"
    }
   ],
   "source": [
    "get_gaussian_filter_1d(5,1)\n"
   ]
  },
  {
   "cell_type": "code",
   "execution_count": 316,
   "metadata": {},
   "outputs": [],
   "source": [
    "def get_gaussian_filter_2d(size,sigma):\n",
    "    original=get_gaussian_filter_1d(size,sigma)\n",
    "    return np.einsum('i,j->ji', original,original )"
   ]
  },
  {
   "cell_type": "code",
   "execution_count": 317,
   "metadata": {},
   "outputs": [
    {
     "data": {
      "text/plain": [
       "array([[0.00296902, 0.01330621, 0.02193823, 0.01330621, 0.00296902],\n",
       "       [0.01330621, 0.0596343 , 0.09832033, 0.0596343 , 0.01330621],\n",
       "       [0.02193823, 0.09832033, 0.16210282, 0.09832033, 0.02193823],\n",
       "       [0.01330621, 0.0596343 , 0.09832033, 0.0596343 , 0.01330621],\n",
       "       [0.00296902, 0.01330621, 0.02193823, 0.01330621, 0.00296902]])"
      ]
     },
     "execution_count": 317,
     "metadata": {},
     "output_type": "execute_result"
    }
   ],
   "source": [
    "get_gaussian_filter_2d(5,1)"
   ]
  },
  {
   "cell_type": "code",
   "execution_count": 318,
   "metadata": {},
   "outputs": [],
   "source": [
    "def get_gaussian_img(img,size,sigma,dimension=2):\n",
    "    if dimension==1:\n",
    "        kernel=get_gaussian_filter_1d(size,sigma)\n",
    "        column_kernel=np.expand_dims(kernel,axis=1)\n",
    "        row_kernel=np.expand_dims(kernel,axis=0)\n",
    "        img=cross_correlation_1d(img,row_kernel)\n",
    "        img=cross_correlation_1d(img,column_kernel)\n",
    "        return img\n",
    "    else:\n",
    "        return cross_correlation_2d(img,get_gaussian_filter_2d(size,sigma))\n",
    "    "
   ]
  },
  {
   "cell_type": "code",
   "execution_count": 319,
   "metadata": {},
   "outputs": [],
   "source": [
    "import os\n",
    "\n",
    "def getCollage(title,img_path,sizeList=[5,11,17],sigmaList=[1,6,11],dimension=2):\n",
    "    result=[]\n",
    "    for i,size in enumerate(sizeList):\n",
    "        tmp=[]\n",
    "        for j,sigma in enumerate(sigmaList):\n",
    "            img=cv2.imread(img_path, cv2.IMREAD_GRAYSCALE)\n",
    "            img=get_gaussian_img(img,size,sigma,dimension).copy()\n",
    "            cv2.putText(img,f\"{size}X{size} s={sigma}\",(10,40),cv2.FONT_HERSHEY_PLAIN,2,(0,0,0),2)\n",
    "            if j==0:\n",
    "                tmp=img\n",
    "            else:\n",
    "                tmp=cv2.hconcat([tmp,img])\n",
    "        if i==0:\n",
    "            result=tmp\n",
    "        else:\n",
    "            result=cv2.vconcat([result,tmp])\n",
    "    directory=\"./result\"\n",
    "    if not os.path.exists(directory):\n",
    "        os.makedirs(directory)\n",
    "    cv2.imwrite(f'./result/part_1_gaussian_filtered_{title}.png',np.array(result))"
   ]
  },
  {
   "cell_type": "code",
   "execution_count": 320,
   "metadata": {},
   "outputs": [],
   "source": [
    "getCollage(\"lenna\",LENNA_IMG_PATH)\n",
    "getCollage(\"shapes\",SHAPE_IMG_PATH)"
   ]
  },
  {
   "cell_type": "markdown",
   "metadata": {},
   "source": []
  },
  {
   "cell_type": "code",
   "execution_count": 321,
   "metadata": {},
   "outputs": [
    {
     "name": "stdout",
     "output_type": "stream",
     "text": [
      "(17,)\n",
      "(1, 17) 1\n",
      "(17, 1) 17\n",
      "[0.04967151 0.05284774 0.0557643  0.05835753 0.06056872 0.06234629\n",
      " 0.06364784 0.06444177 0.06470861 0.06444177 0.06364784 0.06234629\n",
      " 0.06056872 0.05835753 0.0557643  0.05284774 0.04967151]\n",
      "[[0.04967151 0.05284774 0.0557643  0.05835753 0.06056872 0.06234629\n",
      "  0.06364784 0.06444177 0.06470861 0.06444177 0.06364784 0.06234629\n",
      "  0.06056872 0.05835753 0.0557643  0.05284774 0.04967151]]\n"
     ]
    }
   ],
   "source": [
    "a=get_gaussian_filter_1d(17,11)\n",
    "c=np.expand_dims(a,axis=1)\n",
    "print(a.shape)\n",
    "b=np.expand_dims(a,axis=0)\n",
    "print(b.shape,len(b))\n",
    "print(c.shape,len(c))\n",
    "print(b.reshape(-1))\n",
    "print(np.flip(b))"
   ]
  },
  {
   "cell_type": "code",
   "execution_count": 325,
   "metadata": {},
   "outputs": [],
   "source": [
    "img=cv2.imread(LENNA_IMG_PATH, cv2.IMREAD_GRAYSCALE)\n",
    "\n",
    "img_1d=get_gaussian_img(img,17,11,1)\n",
    "img_2d=get_gaussian_img(img,17,11)\n",
    "difference=img_1d-img_2d\n",
    "np.sum(np.abs(difference))\n",
    "img_show(difference)"
   ]
  },
  {
   "cell_type": "code",
   "execution_count": null,
   "metadata": {},
   "outputs": [],
   "source": []
  },
  {
   "cell_type": "code",
   "execution_count": null,
   "metadata": {},
   "outputs": [],
   "source": []
  },
  {
   "cell_type": "code",
   "execution_count": null,
   "metadata": {},
   "outputs": [],
   "source": []
  }
 ],
 "metadata": {
  "kernelspec": {
   "display_name": "Python 3",
   "language": "python",
   "name": "python3"
  },
  "language_info": {
   "codemirror_mode": {
    "name": "ipython",
    "version": 3
   },
   "file_extension": ".py",
   "mimetype": "text/x-python",
   "name": "python",
   "nbconvert_exporter": "python",
   "pygments_lexer": "ipython3",
   "version": "3.10.2 (tags/v3.10.2:a58ebcc, Jan 17 2022, 14:12:15) [MSC v.1929 64 bit (AMD64)]"
  },
  "orig_nbformat": 4,
  "vscode": {
   "interpreter": {
    "hash": "cf7cf767beb9e6cbc244bd557b33aa88c6ccdf2cc19853c07ad11ed7f2559ef0"
   }
  }
 },
 "nbformat": 4,
 "nbformat_minor": 2
}
