{
 "cells": [
  {
   "cell_type": "code",
   "execution_count": 148,
   "metadata": {},
   "outputs": [],
   "source": [
    "from functions import *"
   ]
  },
  {
   "cell_type": "code",
   "execution_count": 149,
   "metadata": {},
   "outputs": [],
   "source": [
    "def compute_corner_response(img):\n",
    "    sobel_x=np.array([[1,0,-1],[2,0,-2],[1,0,-1]])\n",
    "    sobel_y=np.array([[1,2,1],[0,0,0],[-1,-2,-1]])\n",
    "    I_x=cross_correlation_2d(img,sobel_x)\n",
    "    I_y=cross_correlation_2d(img,sobel_y)\n",
    "    window=np.ones((5,5))\n",
    "    I_xx=cross_correlation_2d(I_x**2,window)\n",
    "    I_yy=cross_correlation_2d(I_y**2,window)\n",
    "    I_xy=cross_correlation_2d(I_x*I_y,window)\n",
    "    k=0.04\n",
    "    det=I_xx*I_yy-I_xy**2\n",
    "    trace=I_xx+I_yy\n",
    "    R=det-k*trace**2\n",
    "    R=R.clip(0)\n",
    "    R=(R-np.min(R))/(np.max(R)-np.min(R))\n",
    "    return R"
   ]
  },
  {
   "cell_type": "code",
   "execution_count": 150,
   "metadata": {},
   "outputs": [],
   "source": [
    "def get_corner_img(img_path):   \n",
    "    img=get_gaussian_img(img_path,7,1.5)\n",
    "    start=time.time()\n",
    "    corner=compute_corner_response(img)\n",
    "    print(\"corner response: {time.time()-start}\")\n",
    "    img_show(corner)\n",
    "    directory=\"./result\"\n",
    "    if not os.path.exists(directory):\n",
    "        os.makedirs(directory)\n",
    "    corner = ((corner - corner.min()) / (corner.max() - corner.min()) * 255.).astype(np.uint8) \n",
    "    cv2.imwrite(f'./result/part_3_corner_raw_{img_path}',corner)\n",
    "    return corner"
   ]
  },
  {
   "cell_type": "code",
   "execution_count": null,
   "metadata": {},
   "outputs": [],
   "source": [
    "LENNA_IMG_PATH=\"lenna.png\"\n",
    "corner=get_corner_img(LENNA_IMG_PATH)\n",
    "img=cv2.imread(LENNA_IMG_PATH,cv2.IMREAD_GRAYSCALE)\n",
    "img=cv2.cvtColor(img,cv2.COLOR_GRAY2BGR)\n",
    "img[corner>0.1]=[0,255,0]\n",
    "img_show(img)\n",
    "directory=\"./result\"\n",
    "if not os.path.exists(directory):\n",
    "    os.makedirs(directory)\n",
    "cv2.imwrite(f'./result/part_3_corner_bin_{LENNA_IMG_PATH}',img)"
   ]
  },
  {
   "cell_type": "code",
   "execution_count": 151,
   "metadata": {},
   "outputs": [
    {
     "name": "stdout",
     "output_type": "stream",
     "text": [
      "corner response: {time.time()-start}\n"
     ]
    },
    {
     "data": {
      "text/plain": [
       "True"
      ]
     },
     "execution_count": 151,
     "metadata": {},
     "output_type": "execute_result"
    }
   ],
   "source": [
    "def get_green_img(img_path):\n",
    "    corner=get_corner_img(img_path)\n",
    "    img=cv2.imread(img_path,cv2.IMREAD_GRAYSCALE)\n",
    "    img=cv2.cvtColor(img,cv2.COLOR_GRAY2BGR)\n",
    "    img[corner>0.1]=[0,255,0]\n",
    "    img_show(img)\n",
    "    directory=\"./result\"\n",
    "    if not os.path.exists(directory):\n",
    "        os.makedirs(directory)\n",
    "    cv2.imwrite(f'./result/part_3_corner_bin_{img_path}',img)"
   ]
  },
  {
   "cell_type": "code",
   "execution_count": 152,
   "metadata": {},
   "outputs": [],
   "source": [
    "def non_maximum_suppression_win(R):\n",
    "    r,c=R.shape\n",
    "    suppressed_R=np.zeros((r,c))\n",
    "    for i in range(r):\n",
    "        for j in range(c):\n",
    "            if R[i,j]>0.1:\n",
    "                rl,rr,cl,cr=max(0,i-5),min(r,i+6),max(0,j-5),min(c,j+6)\n",
    "                window=R[rl:rr,cl:cr]\n",
    "                maxi=np.max(window)\n",
    "                if maxi==R[i,j]:\n",
    "                    suppressed_R[i,j]=maxi\n",
    "    return suppressed_R"
   ]
  },
  {
   "cell_type": "code",
   "execution_count": 153,
   "metadata": {},
   "outputs": [],
   "source": [
    "LENNA_IMG_PATH=\"lenna.png\"\n",
    "\n",
    "img=get_gaussian_img(LENNA_IMG_PATH,7,1.5)\n",
    "R=compute_corner_response(img)\n",
    "suppressed_R=non_maximum_suppression_win(R)\n",
    "backgroundImg=cv2.imread(LENNA_IMG_PATH,cv2.IMREAD_GRAYSCALE)\n",
    "backgroundImg=cv2.cvtColor(backgroundImg,cv2.COLOR_GRAY2BGR)\n",
    "for x,row in enumerate(suppressed_R):\n",
    "    for y in np.where(row)[0]:\n",
    "        cv2.circle(backgroundImg, (y,x), 5, (0,255,0),2)\n",
    "directory=\"./result\"\n",
    "if not os.path.exists(directory):\n",
    "    os.makedirs(directory)\n",
    "cv2.imwrite(f'./result/part_3_corner_sup_{LENNA_IMG_PATH}',backgroundImg)\n",
    "img_show(backgroundImg)"
   ]
  },
  {
   "cell_type": "code",
   "execution_count": 154,
   "metadata": {},
   "outputs": [],
   "source": [
    "def get_circled_img(img_path):\n",
    "    img=get_gaussian_img(img_path,7,1.5)\n",
    "    R=compute_corner_response(img)\n",
    "    start=time.time()\n",
    "    suppressed_R=non_maximum_suppression_win(R)\n",
    "    print(f\"nms_window: {time.time()-start}\")\n",
    "    backgroundImg=cv2.imread(img_path,cv2.IMREAD_GRAYSCALE)\n",
    "    backgroundImg=cv2.cvtColor(backgroundImg,cv2.COLOR_GRAY2BGR)\n",
    "    for x,row in enumerate(suppressed_R):\n",
    "        for y in np.where(row)[0]:\n",
    "            cv2.circle(backgroundImg, (y,x), 5, (0,255,0),2)\n",
    "    directory=\"./result\"\n",
    "    if not os.path.exists(directory):\n",
    "        os.makedirs(directory)\n",
    "    cv2.imwrite(f'./result/part_3_corner_sup_{img_path}',backgroundImg)\n",
    "    img_show(backgroundImg)"
   ]
  }
 ],
 "metadata": {
  "kernelspec": {
   "display_name": "Python 3",
   "language": "python",
   "name": "python3"
  },
  "language_info": {
   "codemirror_mode": {
    "name": "ipython",
    "version": 3
   },
   "file_extension": ".py",
   "mimetype": "text/x-python",
   "name": "python",
   "nbconvert_exporter": "python",
   "pygments_lexer": "ipython3",
   "version": "3.10.2 (tags/v3.10.2:a58ebcc, Jan 17 2022, 14:12:15) [MSC v.1929 64 bit (AMD64)]"
  },
  "orig_nbformat": 4,
  "vscode": {
   "interpreter": {
    "hash": "cf7cf767beb9e6cbc244bd557b33aa88c6ccdf2cc19853c07ad11ed7f2559ef0"
   }
  }
 },
 "nbformat": 4,
 "nbformat_minor": 2
}
